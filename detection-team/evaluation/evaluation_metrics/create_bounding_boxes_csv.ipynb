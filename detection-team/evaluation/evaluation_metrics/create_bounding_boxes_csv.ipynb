{
 "cells": [
  {
   "cell_type": "code",
   "execution_count": 1,
   "metadata": {},
   "outputs": [],
   "source": [
    "from pathlib import Path\n",
    "import json\n",
    "import os\n",
    "import csv"
   ]
  },
  {
   "cell_type": "code",
   "execution_count": 2,
   "metadata": {},
   "outputs": [
    {
     "ename": "KeyboardInterrupt",
     "evalue": "",
     "output_type": "error",
     "traceback": [
      "\u001b[1;31m---------------------------------------------------------------------------\u001b[0m",
      "\u001b[1;31mKeyboardInterrupt\u001b[0m                         Traceback (most recent call last)",
      "Cell \u001b[1;32mIn[2], line 15\u001b[0m\n\u001b[0;32m     12\u001b[0m csv_file \u001b[38;5;241m=\u001b[39m annotations_base_path \u001b[38;5;241m/\u001b[39m \u001b[38;5;124mf\u001b[39m\u001b[38;5;124m\"\u001b[39m\u001b[38;5;132;01m{\u001b[39;00mimage_dir\u001b[38;5;241m.\u001b[39mname\u001b[38;5;132;01m}\u001b[39;00m\u001b[38;5;124m_gt_whole.txt\u001b[39m\u001b[38;5;124m\"\u001b[39m\n\u001b[0;32m     14\u001b[0m \u001b[38;5;66;03m# Collect all image paths in the current directory\u001b[39;00m\n\u001b[1;32m---> 15\u001b[0m image_paths \u001b[38;5;241m=\u001b[39m \u001b[38;5;28;43mlist\u001b[39;49m\u001b[43m(\u001b[49m\u001b[43mimage_dir\u001b[49m\u001b[38;5;241;43m.\u001b[39;49m\u001b[43mglob\u001b[49m\u001b[43m(\u001b[49m\u001b[38;5;124;43m'\u001b[39;49m\u001b[38;5;124;43m*.jpg\u001b[39;49m\u001b[38;5;124;43m'\u001b[39;49m\u001b[43m)\u001b[49m\u001b[43m)\u001b[49m\n\u001b[0;32m     17\u001b[0m \u001b[38;5;66;03m# Add to the dictionary\u001b[39;00m\n\u001b[0;32m     18\u001b[0m annotations_to_images[\u001b[38;5;28mstr\u001b[39m(csv_file)] \u001b[38;5;241m=\u001b[39m [\u001b[38;5;28mstr\u001b[39m(img_path) \u001b[38;5;28;01mfor\u001b[39;00m img_path \u001b[38;5;129;01min\u001b[39;00m image_paths]\n",
      "File \u001b[1;32mc:\\Users\\landa\\AppData\\Local\\Programs\\Python\\Python39\\lib\\pathlib.py:1177\u001b[0m, in \u001b[0;36mPath.glob\u001b[1;34m(self, pattern)\u001b[0m\n\u001b[0;32m   1175\u001b[0m     \u001b[38;5;28;01mraise\u001b[39;00m \u001b[38;5;167;01mNotImplementedError\u001b[39;00m(\u001b[38;5;124m\"\u001b[39m\u001b[38;5;124mNon-relative patterns are unsupported\u001b[39m\u001b[38;5;124m\"\u001b[39m)\n\u001b[0;32m   1176\u001b[0m selector \u001b[38;5;241m=\u001b[39m _make_selector(\u001b[38;5;28mtuple\u001b[39m(pattern_parts), \u001b[38;5;28mself\u001b[39m\u001b[38;5;241m.\u001b[39m_flavour)\n\u001b[1;32m-> 1177\u001b[0m \u001b[38;5;28;01mfor\u001b[39;00m p \u001b[38;5;129;01min\u001b[39;00m selector\u001b[38;5;241m.\u001b[39mselect_from(\u001b[38;5;28mself\u001b[39m):\n\u001b[0;32m   1178\u001b[0m     \u001b[38;5;28;01myield\u001b[39;00m p\n",
      "File \u001b[1;32mc:\\Users\\landa\\AppData\\Local\\Programs\\Python\\Python39\\lib\\pathlib.py:559\u001b[0m, in \u001b[0;36m_WildcardSelector._select_from\u001b[1;34m(self, parent_path, is_dir, exists, scandir)\u001b[0m\n\u001b[0;32m    557\u001b[0m \u001b[38;5;28;01mtry\u001b[39;00m:\n\u001b[0;32m    558\u001b[0m     \u001b[38;5;28;01mwith\u001b[39;00m scandir(parent_path) \u001b[38;5;28;01mas\u001b[39;00m scandir_it:\n\u001b[1;32m--> 559\u001b[0m         entries \u001b[38;5;241m=\u001b[39m \u001b[38;5;28;43mlist\u001b[39;49m\u001b[43m(\u001b[49m\u001b[43mscandir_it\u001b[49m\u001b[43m)\u001b[49m\n\u001b[0;32m    560\u001b[0m     \u001b[38;5;28;01mfor\u001b[39;00m entry \u001b[38;5;129;01min\u001b[39;00m entries:\n\u001b[0;32m    561\u001b[0m         \u001b[38;5;28;01mif\u001b[39;00m \u001b[38;5;28mself\u001b[39m\u001b[38;5;241m.\u001b[39mdironly:\n",
      "\u001b[1;31mKeyboardInterrupt\u001b[0m: "
     ]
    }
   ],
   "source": [
    "# Define paths to the main repositories\n",
    "images_base_path = Path('../../training/DATA/UAV-benchmark-M')\n",
    "annotations_base_path = Path('../../training/Data/UAV-benchmark-MOTD_v1.0/GT')\n",
    "\n",
    "# Initialize the dictionary\n",
    "annotations_to_images = {}\n",
    "\n",
    "# Iterate through each subdirectory in the images base path\n",
    "for image_dir in images_base_path.iterdir():\n",
    "    if image_dir.is_dir():  # Ensure it's a directory\n",
    "        # Construct the corresponding CSV file path\n",
    "        csv_file = annotations_base_path / f\"{image_dir.name}_gt_whole.txt\"\n",
    "        \n",
    "        # Collect all image paths in the current directory\n",
    "        image_paths = list(image_dir.glob('*.jpg'))\n",
    "        \n",
    "        # Add to the dictionary\n",
    "        annotations_to_images[str(csv_file)] = [str(img_path) for img_path in image_paths]\n",
    "\n",
    "# Print the resulting dictionary\n",
    "for csv_file, image_paths in annotations_to_images.items():\n",
    "    print(f\"CSV File: {csv_file}\")\n",
    "    for img_path in image_paths:\n",
    "        print(f\"  Image: {img_path}\")\n"
   ]
  },
  {
   "cell_type": "code",
   "execution_count": null,
   "metadata": {},
   "outputs": [],
   "source": [
    "# Function to parse a bounding box line from a TXT file\n",
    "def parse_bbox_line(line):\n",
    "    parts = line.strip().split(',')\n",
    "    frame_index = int(parts[0])\n",
    "    target_id=int(parts[1])\n",
    "    bbox_left = float(parts[2])\n",
    "    bbox_top = float(parts[3])\n",
    "    bbox_width = float(parts[4])\n",
    "    bbox_height = float(parts[5])\n",
    "    x1, y1 = bbox_left, bbox_top\n",
    "    x2, y2 = bbox_left + bbox_width, bbox_top + bbox_height\n",
    "    return frame_index, (x1, y1, x2, y2),int(parts[8]),target_id\n",
    "\n"
   ]
  },
  {
   "cell_type": "code",
   "execution_count": null,
   "metadata": {},
   "outputs": [],
   "source": [
    "\n",
    "frame_to_bboxes=[]\n",
    "data_list=[]\n",
    "\n",
    "# Process the dictionary to create pairs of image paths and bounding boxes\n",
    "for txt_file, image_paths in annotations_to_images.items():\n",
    "    if Path(txt_file).exists():\n",
    "        # Parse the TXT file to get bounding boxes\n",
    "        with Path(txt_file).open() as f:\n",
    "            bboxes = [parse_bbox_line(line) for line in f]\n",
    "        \n",
    "        # Create a mapping from frame index to bounding boxes\n",
    "        frame_to_bboxes = {index: [frame_index,bbox,class_id,target_id]for index,(frame_index, bbox ,class_id,target_id) in enumerate(bboxes)}\n",
    "        \n",
    "        # Match images with bounding boxes based on frame index\n",
    "        for i,img_path in enumerate(image_paths):\n",
    "            frame_index = int((Path(img_path).stem)[3:])\n",
    "            keys_with_value_x = [key for key, value in frame_to_bboxes.items() if value[0] == frame_index]\n",
    "            if len(keys_with_value_x)>0:\n",
    "                for key in keys_with_value_x:\n",
    "                    img_pair={\n",
    "                        'image_path':img_path,\n",
    "                        'xmin':frame_to_bboxes[key][1][0],\n",
    "                        'ymin':frame_to_bboxes[key][1][1],\n",
    "                        'xmax':frame_to_bboxes[key][1][2],\n",
    "                        'ymax':frame_to_bboxes[key][1][3]\n",
    "                            }\n",
    "                    data_list.append(img_pair)\n",
    "                # filename = img_path\n"
   ]
  },
  {
   "cell_type": "code",
   "execution_count": null,
   "metadata": {},
   "outputs": [],
   "source": [
    "# Write to CSV\n",
    "csv_file = \"bounding_boxes.csv\"\n",
    "with open(csv_file, mode='w', newline='') as file:\n",
    "    writer = csv.DictWriter(file, fieldnames=[\"image_path\", \"xmin\", \"ymin\", \"xmax\", \"ymax\"])\n",
    "    writer.writeheader()\n",
    "    for row in data_list:\n",
    "        writer.writerow(row)"
   ]
  }
 ],
 "metadata": {
  "kernelspec": {
   "display_name": "Python 3",
   "language": "python",
   "name": "python3"
  },
  "language_info": {
   "codemirror_mode": {
    "name": "ipython",
    "version": 3
   },
   "file_extension": ".py",
   "mimetype": "text/x-python",
   "name": "python",
   "nbconvert_exporter": "python",
   "pygments_lexer": "ipython3",
   "version": "3.9.9"
  }
 },
 "nbformat": 4,
 "nbformat_minor": 2
}
