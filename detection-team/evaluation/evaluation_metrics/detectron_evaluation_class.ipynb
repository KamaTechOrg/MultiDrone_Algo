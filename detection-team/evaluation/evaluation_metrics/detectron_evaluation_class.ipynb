{
 "cells": [
  {
   "cell_type": "code",
   "execution_count": 1,
   "metadata": {},
   "outputs": [],
   "source": [
    "import detectron2\n",
    "from detectron2.utils.logger import setup_logger\n",
    "setup_logger()\n",
    "from detectron2 import model_zoo\n",
    "from detectron2.engine import DefaultTrainer\n",
    "from detectron2.engine import DefaultPredictor\n",
    "from detectron2.config import get_cfg\n",
    "from detectron2.utils.visualizer import Visualizer\n",
    "from detectron2.structures import BoxMode\n",
    "from detectron2.data import DatasetCatalog, MetadataCatalog\n",
    "from detectron2.evaluation import COCOEvaluator, inference_on_dataset, LVISEvaluator\n",
    "from detectron2.data import build_detection_test_loader\n",
    "from detectron2.utils.visualizer import ColorMode\n",
    "import cv2\n",
    "import torch, torchvision\n",
    "import torchvision.transforms as transforms\n",
    "from pathlib import Path\n",
    "import json\n",
    "from sklearn.model_selection import train_test_split\n",
    "import matplotlib.pyplot as plt\n",
    "import os\n",
    "import subprocess\n",
    "import time\n",
    "import csv\n",
    "import re\n",
    "import abc\n",
    "import time\n",
    "import threading\n",
    "import subprocess\n",
    "import pandas as pd\n",
    "import os\n",
    "import os\n",
    "import cv2\n",
    "import torch\n",
    "import pandas as pd\n",
    "import time\n",
    "import sys\n",
    "import importlib\n",
    "from classes_utils import BoundingBox,OutputObject\n",
    "from detectron2_for_evaluation.config import get_cfg\n",
    "from detectron2_for_evaluation.engine.defaults import DefaultPredictor\n",
    "from detectron2_for_evaluation import model_zoo\n",
    "from abstract_class import EvaluationMetrics"
   ]
  },
  {
   "cell_type": "code",
   "execution_count": 2,
   "metadata": {},
   "outputs": [],
   "source": [
    "# Append data to the CSV file\n",
    "def append_to_csv(data,csv_file):\n",
    "    with open(csv_file, 'a', newline='') as file:\n",
    "        writer = csv.DictWriter(file, fieldnames=['timestamp', 'gpu_utilization', 'memory_utilization', 'encoder_utilization', 'decoder_utilization'])\n",
    "        writer.writerow(data)\n",
    "\n",
    "\n",
    "def convert_detectron2_output_to_output_object(image_path: str, detectron2_output) -> OutputObject:\n",
    "        \"\"\"\n",
    "        Converts Detectron2 output to OutputObject.\n",
    "\n",
    "        Args:\n",
    "        - image_path (str): The path to the image.\n",
    "        - detectron2_output: The output from Detectron2 model, typically a dictionary \n",
    "        with 'instances' containing bounding boxes, category_ids, etc.\n",
    "\n",
    "        Returns:\n",
    "        - OutputObject: The converted object containing the bounding boxes and category ID.\n",
    "        \"\"\"\n",
    "        # Assuming detectron2_output['instances'] is a Instances object\n",
    "        instances = detectron2_output['instances']\n",
    "        \n",
    "        # Get predicted bounding boxes (Tensor of shape [N, 4])\n",
    "        boxes = instances.pred_boxes.tensor.cpu().numpy()\n",
    "        \n",
    "        # Get predicted category IDs (Tensor of shape [N])\n",
    "        category_ids = instances.pred_classes.cpu().numpy()\n",
    "\n",
    "        # Convert bounding boxes to BoundingBox instances\n",
    "        bboxes = [BoundingBox(category_id, xmin, ymin, xmax, ymax) for (xmin, ymin, xmax, ymax) , category_id in zip(boxes,category_ids)]\n",
    "\n",
    "        # Create and return the OutputObject\n",
    "        return OutputObject(image_path, bboxes)"
   ]
  },
  {
   "cell_type": "code",
   "execution_count": 3,
   "metadata": {},
   "outputs": [],
   "source": [
    "\n",
    "\n",
    "class DetectronEvluation(EvaluationMetrics):\n",
    "    \n",
    "    def __init__(self,images_path: str) -> None:\n",
    "        predictor=self.setup_predictor()\n",
    "        super().__init__(predictor, images_path, \"\")\n",
    "    \n",
    "    \n",
    "\n",
    "\n",
    "    def predict(self,one=False, image_path=\"\") -> list:\n",
    "        if one:\n",
    "            return [self.get_predictions(self._EvaluationMetrics__predictor,image_path)]\n",
    "        \n",
    "        return (self.recursive_predict(self._EvaluationMetrics__images_path,10))[0]\n",
    "    \n",
    "    def recursive_predict(self, images_dir:str,count:int)->list:\n",
    "        outputs=[]\n",
    "        \n",
    "        for img in os.listdir(images_dir):\n",
    "            if count<=0:\n",
    "                break\n",
    "            diff=1\n",
    "            # print(img)\n",
    "            # print(os.path.isdir(os.path.join(images_dir,img)))\n",
    "            if os.path.isdir(os.path.join(images_dir,img)):\n",
    "                output,diff=self.recursive_predict(os.path.join(images_dir,img),count)\n",
    "                outputs+=output\n",
    "                diff=10-diff\n",
    "            else:\n",
    "                # print(\"hello\",count)\n",
    "                # if os.path.isfile(img) and (os.path.splitext(os.path.basename(img)))[-1] in {\".jpg\", \".jpeg\", \".png\", \".bmp\", \".gif\", \".tiff\", \".webp\"}:\n",
    "                outputs+=[self.get_predictions(self._EvaluationMetrics__predictor,os.path.join(images_dir,img))]\n",
    "            count-=diff\n",
    "        return outputs,count\n",
    "\n",
    "    \n",
    "     \n",
    "    def setup_predictor(self):\n",
    "        cfg = get_cfg()\n",
    "        cfg.merge_from_file(model_zoo.get_config_file(\"COCO-Detection/faster_rcnn_R_50_FPN_3x.yaml\"))\n",
    "        cfg.MODEL.WEIGHTS = model_zoo.get_checkpoint_url(\"COCO-Detection/faster_rcnn_R_50_FPN_3x.yaml\")\n",
    "        cfg.MODEL.ROI_HEADS.SCORE_THRESH_TEST = 0.5\n",
    "\n",
    "        # Check if CUDA (GPU) is available, else use CPU\n",
    "        if torch.cuda.is_available():\n",
    "            cfg.MODEL.DEVICE = 'cuda'\n",
    "        else:\n",
    "            cfg.MODEL.DEVICE = 'cpu'\n",
    "\n",
    "        return DefaultPredictor(cfg)\n",
    "\n",
    "    def get_predictions(self,predictor, image_path):\n",
    "        im = cv2.imread(image_path)\n",
    "       \n",
    "        outputs = predictor(im)\n",
    "       \n",
    "\n",
    "        return convert_detectron2_output_to_output_object(image_path,outputs)  \n",
    "    \n",
    "\n",
    "    \n",
    "\n",
    "\n"
   ]
  },
  {
   "cell_type": "code",
   "execution_count": 4,
   "metadata": {},
   "outputs": [
    {
     "name": "stdout",
     "output_type": "stream",
     "text": [
      "\u001b[32m[08/14 11:05:46 d2.checkpoint.detection_checkpoint]: \u001b[0m[DetectionCheckpointer] Loading from https://dl.fbaipublicfiles.com/detectron2/COCO-Detection/faster_rcnn_R_50_FPN_3x/137849458/model_final_280758.pkl ...\n"
     ]
    }
   ],
   "source": [
    "evaluation_object=DetectronEvluation(\"../../training/DATA/UAV-benchmark-M\")\n"
   ]
  },
  {
   "cell_type": "code",
   "execution_count": 5,
   "metadata": {},
   "outputs": [],
   "source": [
    "csv_file = \"bounding_boxes.csv\"\n",
    "print(evaluation_object.metric_1(csv_file))"
   ]
  },
  {
   "cell_type": "code",
   "execution_count": 25,
   "metadata": {},
   "outputs": [
    {
     "name": "stdout",
     "output_type": "stream",
     "text": [
      "../../training/DATA/UAV-benchmark-M\\M0101\\img000001.jpg\n",
      "../../training/DATA/UAV-benchmark-M\\M0101\\img000002.jpg\n",
      "../../training/DATA/UAV-benchmark-M\\M0101\\img000003.jpg\n",
      "../../training/DATA/UAV-benchmark-M\\M0101\\img000004.jpg\n",
      "../../training/DATA/UAV-benchmark-M\\M0101\\img000005.jpg\n",
      "../../training/DATA/UAV-benchmark-M\\M0101\\img000006.jpg\n",
      "../../training/DATA/UAV-benchmark-M\\M0101\\img000007.jpg\n",
      "../../training/DATA/UAV-benchmark-M\\M0101\\img000008.jpg\n",
      "../../training/DATA/UAV-benchmark-M\\M0101\\img000009.jpg\n",
      "../../training/DATA/UAV-benchmark-M\\M0101\\img000010.jpg\n",
      "30.621976137161255\n"
     ]
    }
   ],
   "source": [
    "print(evaluation_object.time_evaluation())"
   ]
  },
  {
   "cell_type": "code",
   "execution_count": 7,
   "metadata": {},
   "outputs": [
    {
     "name": "stdout",
     "output_type": "stream",
     "text": [
      "../../training/DATA/UAV-benchmark-M\\M0101\\img000001.jpg\n",
      "../../training/DATA/UAV-benchmark-M\\M0101\\img000002.jpg\n",
      "../../training/DATA/UAV-benchmark-M\\M0101\\img000003.jpg\n",
      "../../training/DATA/UAV-benchmark-M\\M0101\\img000004.jpg\n",
      "../../training/DATA/UAV-benchmark-M\\M0101\\img000005.jpg\n",
      "../../training/DATA/UAV-benchmark-M\\M0101\\img000006.jpg\n",
      "../../training/DATA/UAV-benchmark-M\\M0101\\img000007.jpg\n",
      "../../training/DATA/UAV-benchmark-M\\M0101\\img000008.jpg\n",
      "../../training/DATA/UAV-benchmark-M\\M0101\\img000009.jpg\n",
      "../../training/DATA/UAV-benchmark-M\\M0101\\img000010.jpg\n"
     ]
    }
   ],
   "source": [
    "evaluation_object.gpu_evaluation(\"gpu_utilization.csv\")"
   ]
  }
 ],
 "metadata": {
  "kernelspec": {
   "display_name": "Python 3",
   "language": "python",
   "name": "python3"
  },
  "language_info": {
   "codemirror_mode": {
    "name": "ipython",
    "version": 3
   },
   "file_extension": ".py",
   "mimetype": "text/x-python",
   "name": "python",
   "nbconvert_exporter": "python",
   "pygments_lexer": "ipython3",
   "version": "3.9.9"
  }
 },
 "nbformat": 4,
 "nbformat_minor": 2
}
