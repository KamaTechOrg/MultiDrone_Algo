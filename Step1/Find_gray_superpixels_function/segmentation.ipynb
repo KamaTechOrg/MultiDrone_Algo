
import numpy as np
from skimage import io, segmentation
import matplotlib.pyplot as plt
from scipy.ndimage import label
# Load the image
image_path = "./img000001.jpg"
image = io.imread(image_path)
# Apply SLIC superpixels algorithm
segments_slic = segmentation.slic(image, n_segments=1000, compactness=10, sigma=1, start_label=1)
unique_segments = np.unique(segments_slic)
# Define the average RGB values of the road from the analysis
average_rgb = np.array([88.48, 96.51, 98.59])
# Define tolerance for RGB comparison
tolerance = 35
lower_bound = np.maximum(average_rgb - tolerance, 0)
upper_bound = np.minimum(average_rgb + tolerance, 255)
# Function to check if the segment is part of the road based on the RGB ratio
def count_road_pixels(segment, image):
    segment_mask = segments_slic == segment
    segment_pixels = image[segment_mask]
    # Check if pixels are within the road RGB ratio
    road_pixels = np.all((segment_pixels >= lower_bound) & (segment_pixels <= upper_bound), axis=-1)
    # Count the number of road-like pixels
    road_pixel_count = np.sum(road_pixels)
    return road_pixel_count
# Function to identify segments with mostly road-like pixels
def identify_mostly_road_segment(segment, image, road_percentage_threshold=0.5):
    segment_mask = segments_slic == segment
    segment_pixels = image[segment_mask]
    # Count the number of road-like pixels
    road_pixel_count = count_road_pixels(segment, image)
    # Calculate the percentage of road-like pixels in the superpixel
    total_pixels = segment_pixels.shape[0]
    road_percentage = road_pixel_count / total_pixels
    # Return True if the majority of the pixels are road-like
    return road_percentage >= road_percentage_threshold
# Parameters
road_percentage_threshold = 0.25  # At least 50% of the pixels should be road-like
# Identify segments that are mostly road-like
road_segments = [seg for seg in unique_segments if identify_mostly_road_segment(seg, image, road_percentage_threshold)]
# Create a binary mask where candidate road segments are marked
road_mask = np.zeros(segments_slic.shape, dtype=bool)
for seg in road_segments:
    road_mask[segments_slic == seg] = True
# Ensure road_mask is not empty
if np.any(road_mask):
    # Label connected components in the binary mask
    labeled_array, num_features = label(road_mask)
    # Find the largest connected component
    largest_cc_label = np.argmax(np.bincount(labeled_array.flat)[1:]) + 1  # Ignore background label 0
    # Create a mask for the largest connected component
    largest_cc_mask = labeled_array == largest_cc_label
    # Display the original image with the largest connected component highlighted
    highlight_image = np.copy(image)
    highlight_image[~largest_cc_mask] = [0, 0, 0]  # Mask out non-road areas
    plt.figure(figsize=(8, 8))
    plt.imshow(highlight_image)
    plt.title("Road Segments Based on RGB Ratio")
    plt.axis('off')
    plt.show()
else:
    print("No road segments were identified. Consider relaxing the thresholds.")
