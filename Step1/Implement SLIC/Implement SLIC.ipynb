{
 "cells": [
  {
   "cell_type": "code",
   "execution_count": 19,
   "metadata": {},
   "outputs": [],
   "source": [
    "\n",
    "import math\n",
    "from skimage import io, color\n",
    "from skimage.transform import resize\n",
    "import numpy as np\n",
    "import time\n"
   ]
  },
  {
   "cell_type": "markdown",
   "metadata": {},
   "source": [
    "import sys\n",
    "print(\"Python version\")\n",
    "print(sys.version)\n"
   ]
  },
  {
   "cell_type": "markdown",
   "metadata": {},
   "source": [
    "import sys\n",
    "print(\"Python version\")\n",
    "print(sys.version)\n"
   ]
  },
  {
   "cell_type": "code",
   "execution_count": 3,
   "metadata": {},
   "outputs": [],
   "source": [
    "\n",
    "# function which returns an object of class SuperPixel\n",
    "def make_superPixel(h, w,img):\n",
    "    return SuperPixels(h, w,img[h,w][0],img[h,w][1],img[h,w][2])"
   ]
  },
  {
   "cell_type": "code",
   "execution_count": 4,
   "metadata": {},
   "outputs": [],
   "source": [
    "# To define the initial cluster centers distanced at S\n",
    "def initial_cluster_center(S,img,img_h,img_w,clusters):\n",
    "    h = S // 2\n",
    "    w = S // 2\n",
    "    while h < img_h:\n",
    "        while w < img_w:\n",
    "            clusters.append(make_superPixel(h, w,img))\n",
    "            w += S\n",
    "        w = S // 2\n",
    "        h += S\n",
    "    return clusters"
   ]
  },
  {
   "cell_type": "code",
   "execution_count": 5,
   "metadata": {},
   "outputs": [],
   "source": [
    "\n",
    "# function to calculate gradient at each pixel \n",
    "def calc_gradient(h, w,img,img_w,img_h):\n",
    "    if w + 1 >= img_w:\n",
    "        w = img_w - 2\n",
    "    if h + 1 >= img_h:\n",
    "        h = img_h - 2\n",
    "    grad = img[w + 1, h + 1][0] - img[w, h][0] + img[w + 1, h + 1][1] - img[w, h][1] + img[w + 1, h + 1][2] - img[w, h][2]\n",
    "    return grad"
   ]
  },
  {
   "cell_type": "code",
   "execution_count": 6,
   "metadata": {},
   "outputs": [],
   "source": [
    "# function which reassign the cluster center to the pixel having the lowest gradient\n",
    "def reassign_cluster_center_acc_to_grad(clusters,img):\n",
    "    for c in clusters:\n",
    "        cluster_gradient = calc_gradient(c.h, c.w,img,img_w,img_h)\n",
    "        for dh in range(-1, 2):\n",
    "            for dw in range(-1, 2):\n",
    "                H = c.h + dh\n",
    "                W = c.w + dw\n",
    "                new_gradient = calc_gradient(H,W, img,img_w,img_h)\n",
    "                if new_gradient < cluster_gradient:\n",
    "                    c.update(H, W,img[H,W][0], img[H,W][1],img[H,W][2])\n",
    "                    c_gradient = new_gradient"
   ]
  },
  {
   "cell_type": "code",
   "execution_count": 7,
   "metadata": {},
   "outputs": [],
   "source": [
    "\n",
    "'''\n",
    "function to assign pixels to the nearest cluster using the Euclidean distance involving both color and spatial\n",
    "proximity.\n",
    "'''\n",
    "def assign_pixels_to_cluster(clusters,S,img,img_h,img_w,tag,dis):\n",
    "    for c in clusters:\n",
    "        for h in range(c.h - 2 * S, c.h + 2 * S):\n",
    "            if h < 0 or h >= img_h: continue\n",
    "            for w in range(c.w - 2 * S, c.w + 2 * S):\n",
    "                if w < 0 or w >= img_w: continue\n",
    "                l, a, b = img[h,w]\n",
    "                Dc = math.sqrt(math.pow(l - c.l, 2) + math.pow(a - c.a, 2) + math.pow(b - c.b, 2))\n",
    "                Ds = math.sqrt(math.pow(h - c.h, 2) + math.pow(w - c.w, 2))\n",
    "                D = math.sqrt(math.pow(Dc / m, 2) + math.pow(Ds /S, 2))\n",
    "                if D < dis[h,w]:\n",
    "                    if (h, w) not in tag:\n",
    "                        tag[(h, w)] = c\n",
    "                        c.pixels.append((h, w))\n",
    "                    else:\n",
    "                        tag[(h, w)].pixels.remove((h, w))\n",
    "                        tag[(h, w)] = c\n",
    "                        c.pixels.append((h, w))\n",
    "                    dis[h, w] = D"
   ]
  },
  {
   "cell_type": "code",
   "execution_count": 8,
   "metadata": {},
   "outputs": [],
   "source": [
    "\n",
    "# function to replace the cluster center with the mean of the pixels contained in the cluster\n",
    "def update_cluster_mean(clusters):\n",
    "    for c in clusters:\n",
    "        sum_h = sum_w = number = 0\n",
    "        #print(\"c.pixels\",c.pixels)\n",
    "        for p in c.pixels:\n",
    "            sum_h += p[0]\n",
    "            sum_w += p[1]\n",
    "            number += 1\n",
    "            H = sum_h // number\n",
    "            W = sum_w // number\n",
    "            c.update(H, W,img[H, W][0], img[H, W][1], img[H, W][2])"
   ]
  },
  {
   "cell_type": "code",
   "execution_count": 9,
   "metadata": {},
   "outputs": [],
   "source": [
    "\n",
    "# replace the color of each pixel in a cluster by the color of the cluster's center\n",
    "def avg_color_cluster(img,name,clusters):\n",
    "    image = np.copy(img)\n",
    "    for c in clusters:\n",
    "        for p in c.pixels:\n",
    "            image[p[0],p[1]][0] = c.l\n",
    "            image[p[0],p[1]][1] = c.a\n",
    "            image[p[0],p[1]][2] = c.b\n",
    "        # To change the color of cluster center to Black\n",
    "        image[c.h, c.w][0] = 0\n",
    "        image[c.h, c.w][1] = 0\n",
    "        image[c.h, c.w][2] = 0\n",
    "    lab2rgb(name, image)"
   ]
  },
  {
   "cell_type": "code",
   "execution_count": 16,
   "metadata": {},
   "outputs": [],
   "source": [
    "\n",
    "# function for the Simple Linear Iterative Clustering\n",
    "def slic(S,img,img_h,img_w,clusters,tag,dis):\n",
    "    clusters = initial_cluster_center(S,img,img_h,img_w,clusters)\n",
    "    reassign_cluster_center_acc_to_grad(clusters,img)\n",
    "    for i in range(10): # usually the algortihm converges within 10 iterations\n",
    "        assign_pixels_to_cluster(clusters,S,img,img_h,img_w,tag,dis)\n",
    "        update_cluster_mean(clusters)\n",
    "        if i == 9 : # to print the output after 10 iterations\n",
    "            name = 'img/out_m{m}_k{k}.png'.format(loop=i, m=m, k=k)\n",
    "            avg_color_cluster(img,name, clusters)\n",
    "    return clusters"
   ]
  },
  {
   "cell_type": "code",
   "execution_count": 11,
   "metadata": {},
   "outputs": [],
   "source": [
    "# function to convert LAB images back to RGB and save it\n",
    "def lab2rgb(path, lab_arr):\n",
    "    rgb_arr = color.lab2rgb(lab_arr)\n",
    "    rgb_arr = (rgb_arr * 255).astype(np.uint8)\n",
    "    io.imsave(path, rgb_arr)"
   ]
  },
  {
   "cell_type": "code",
   "execution_count": 12,
   "metadata": {},
   "outputs": [],
   "source": [
    "# A class to initialize the super pixels, of the form - [h,y,l,a,b].\n",
    "class SuperPixels(object):\n",
    "\n",
    "    def __init__(self, h, w, l=0, a=0, b=0):\n",
    "        self.update(h, w, l, a, b)\n",
    "        self.pixels = []\n",
    "\n",
    "    def update(self, h, w, l, a, b):\n",
    "        self.h = h\n",
    "        self.w = w\n",
    "        self.l = l\n",
    "        self.a = a\n",
    "        self.b = b"
   ]
  },
  {
   "cell_type": "code",
   "execution_count": 17,
   "metadata": {},
   "outputs": [
    {
     "name": "stdout",
     "output_type": "stream",
     "text": [
      "(540, 1024, 3)\n",
      "(400, 400, 3)\n"
     ]
    }
   ],
   "source": [
    "\n",
    "# read the input RGB image\n",
    "rgb = io.imread(\"img/img000009.jpg\",plugin='matplotlib')\n",
    "print(rgb.shape)\n",
    "\n",
    "# input images are resized to (400 x 400) for processing\n",
    "img = resize(rgb, (400,400),anti_aliasing=True)\n",
    "print(img.shape)\n",
    "\n",
    "# convert RGB to LAB\n",
    "img = color.rgb2lab(img)\n",
    "\n",
    "k = 150  # Number of Super pixels\n",
    "m = 20    # Constant for normalizing the color proximity, range of m = [1,40]\n",
    "\n",
    "img_h = img.shape[0] # Image Height\n",
    "img_w = img.shape[1] # Image Width\n",
    "\n",
    "N = img_h * img_w  # Total number of pixels in the image\n",
    "S = int(math.sqrt(N /k)) # average size of each superpixel\n",
    "\n",
    "clusters = []\n",
    "tag = {}\n",
    "# initialize the distance between pixels and cluster center as infinity\n",
    "dis = np.full((img_h, img_w), np.inf)"
   ]
  },
  {
   "cell_type": "code",
   "execution_count": 20,
   "metadata": {},
   "outputs": [
    {
     "name": "stdout",
     "output_type": "stream",
     "text": [
      "Execution time: 307.97169852256775 seconds\n"
     ]
    }
   ],
   "source": [
    "start_time = time.time()\n",
    "\n",
    "cluster = slic(S,img,img_h,img_w,clusters,tag,dis)\n",
    "\n",
    "end_time = time.time()\n",
    "print(f\"Execution time: {end_time - start_time} seconds\")\n"
   ]
  },
  {
   "cell_type": "code",
   "execution_count": 15,
   "metadata": {},
   "outputs": [
    {
     "name": "stdout",
     "output_type": "stream",
     "text": [
      "H 15 : W 15, l 81.76328663498543, a -6.294043129937421, b -18.458757287216265\n",
      "H 15 : W 48, l 81.33113062221277, a -5.817262073324281, b -19.44774849286377\n",
      "H 15 : W 79, l 80.3510636077408, a -6.331094351635425, b -18.612376799969166\n",
      "H 15 : W 110, l 80.30505788567858, a -5.704555758631491, b -18.325094871759728\n",
      "H 15 : W 142, l 80.4451695409247, a -6.174908813060265, b -17.343857193268384\n",
      "H 15 : W 174, l 80.0923247166244, a -5.8890720912781465, b -17.94714815295022\n",
      "H 15 : W 207, l 80.13645351585112, a -4.704215947309853, b -19.698233899300767\n",
      "H 15 : W 240, l 80.99870909779219, a -5.813557493546561, b -19.46137601172353\n",
      "H 14 : W 272, l 81.56599479512148, a -5.819841456338459, b -19.438145832830834\n",
      "H 15 : W 304, l 82.72597738275537, a -7.10980652796922, b -18.125258086685434\n",
      "H 16 : W 335, l 82.89894032844919, a -7.29006021979256, b -17.054337834901222\n",
      "H 15 : W 375, l 84.56113467754872, a -8.675447044291463, b -16.887208797577347\n",
      "H 47 : W 15, l 80.19334028312979, a -4.06984294904944, b -18.91748008041767\n",
      "H 46 : W 48, l 79.51290402083214, a -5.057903926837581, b -17.57737777642312\n",
      "H 47 : W 80, l 78.00897629246845, a -3.4612847383717615, b -18.814191812127913\n",
      "H 46 : W 111, l 77.82645924458619, a -3.0977076602800024, b -18.130235565229146\n",
      "H 47 : W 142, l 77.34081997489339, a -3.463144805375018, b -17.17356963931287\n",
      "H 45 : W 175, l 78.28203555996073, a -1.9739927265418067, b -17.609482627501947\n",
      "H 50 : W 206, l 78.0039113230745, a -3.0364395809506783, b -15.641889446981017\n",
      "H 47 : W 238, l 80.18975268695078, a -2.9746225403696758, b -14.868192234800492\n",
      "H 45 : W 271, l 81.43054257958889, a -4.193422857781459, b -14.953610109078763\n",
      "H 48 : W 303, l 81.51452928666849, a -4.193688616435043, b -14.950790919720248\n",
      "H 48 : W 336, l 82.62596778602284, a -4.1970322529388255, b -14.913716595575877\n",
      "H 48 : W 376, l 84.34596490363329, a -6.0671813803657715, b -13.802152205889984\n",
      "H 80 : W 15, l 73.04377229890328, a -4.9797591582840806, b -21.870916930137962\n",
      "H 77 : W 46, l 73.11755002421957, a -6.020009165571382, b -20.477641201173256\n",
      "H 84 : W 78, l 70.77009225396631, a -5.973121928374847, b -20.584663214558052\n",
      "H 79 : W 111, l 68.5594352152117, a -4.86442311797658, b -22.09429338133637\n",
      "H 87 : W 141, l 77.55553244660248, a 4.6630596553381976, b 7.464292416700236\n",
      "H 72 : W 171, l 95.77140976029902, a -0.3553770907531728, b -1.5858317908653774\n",
      "H 81 : W 204, l 58.33938458900796, a 8.098219337746515, b -4.034769878622302\n",
      "H 73 : W 235, l 77.2104902453503, a -1.5713010725664223, b -6.068992470423162\n",
      "H 72 : W 271, l 63.50290858744917, a -0.12970311916959965, b -3.5572148379308333\n",
      "H 74 : W 302, l 96.93587916252957, a -1.2546202346156443, b -0.7313017416917589\n",
      "H 76 : W 334, l 74.77618063041555, a 5.998485963046529, b -7.55157601232006\n",
      "H 75 : W 371, l 89.6239598411091, a 1.6861413776290135, b -5.9567833850408425\n",
      "H 117 : W 15, l 69.248845277956, a -8.117341454983995, b -20.192717692267315\n",
      "H 111 : W 46, l 70.08535210305813, a -7.566195327584624, b -19.392698211418114\n",
      "H 121 : W 75, l 43.47362569651576, a -0.34106309979181626, b -9.29484502342033\n",
      "H 112 : W 107, l 39.267273253397484, a 0.872229621612236, b -10.853696427119331\n",
      "H 110 : W 141, l 69.45554921225607, a 14.094040568774279, b 5.374205579773017\n",
      "H 106 : W 173, l 31.571743915913714, a -5.7960828084756555, b 3.651095833020146\n",
      "H 110 : W 206, l 30.814757017969846, a -8.222655015449554, b 9.781736599563528\n",
      "H 106 : W 239, l 33.37698554235118, a -7.129044113241834, b 10.8685962433978\n",
      "H 99 : W 273, l 36.08554478883987, a -6.443830585470573, b 3.1177068635069083\n",
      "H 110 : W 299, l 66.46547048976382, a 0.5224955797282771, b -0.19127922654536\n",
      "H 104 : W 334, l 31.985451395290333, a -7.06095123871156, b 3.596059431414056\n",
      "H 99 : W 378, l 54.136133597194316, a 2.641819584330407, b 2.1751516206643284\n",
      "H 157 : W 18, l 79.30959755439335, a -6.13785389841709, b -17.75021522367195\n",
      "H 144 : W 48, l 60.87374758951174, a 19.08503268714118, b 8.718241082748346\n",
      "H 144 : W 76, l 38.65634325344032, a -1.540578744107235, b -2.6770316602791056\n",
      "H 143 : W 111, l 30.443892829841843, a -8.978206529821398, b 12.971010746139633\n",
      "H 143 : W 141, l 19.777069009169963, a -7.797277190686458, b 12.016291427795112\n",
      "H 138 : W 173, l 27.28194444359427, a -8.91930338538599, b 17.796982952254737\n",
      "H 146 : W 209, l 38.479413737371495, a 0.08015835301011798, b 3.6382526930174963\n",
      "H 144 : W 235, l 29.424122623369797, a -7.557218618610085, b 9.643076061853273\n",
      "H 138 : W 273, l 69.89712665962058, a 0.034359959172447496, b -0.09496378721982612\n",
      "H 140 : W 309, l 27.78913263351491, a -10.51063243817807, b 13.767843433453475\n",
      "H 140 : W 341, l 24.28126824436604, a -9.163266417584277, b 8.62248995524113\n",
      "H 135 : W 378, l 21.375605795145333, a -8.215792117786169, b 3.632350230378001\n",
      "H 178 : W 13, l 74.49346170527446, a -9.05998113656048, b -30.89608886061248\n",
      "H 180 : W 45, l 37.66954619075328, a -7.3796569035288195, b 16.243441951086226\n",
      "H 167 : W 78, l 35.303559503722965, a -0.9209050065815405, b 9.190875508853857\n",
      "H 176 : W 109, l 32.76620817952105, a -8.287659663386293, b 16.62228146070618\n",
      "H 176 : W 141, l 33.51311002323865, a -8.81717442234306, b 14.593616419795097\n",
      "H 172 : W 180, l 52.24931862341697, a -7.537661749108415, b 9.48280964404482\n",
      "H 174 : W 208, l 57.4340109584936, a 0.9866523281102935, b 6.239520497142581\n",
      "H 169 : W 241, l 55.93814528792021, a 2.414459349419251, b 0.2998372308074648\n",
      "H 174 : W 271, l 70.73893004614729, a -0.09486117597784505, b -2.9109112879860843\n",
      "H 175 : W 302, l 33.549613412881385, a -3.093539647238741, b 6.258568461513803\n",
      "H 176 : W 331, l 31.813745671728846, a 2.7073243002029566, b 1.1329800777317933\n",
      "H 174 : W 375, l 35.72215634587484, a -8.942117041081083, b 17.490463450126747\n",
      "H 208 : W 16, l 30.31983929371085, a -9.814469259257608, b 12.803005695656255\n",
      "H 210 : W 47, l 35.77335929393299, a -10.410814688516401, b 18.420787937489525\n",
      "H 204 : W 78, l 31.822237964624534, a -9.72056215907341, b 15.138994404470886\n",
      "H 208 : W 110, l 32.30042547555012, a -8.921095532138711, b 20.194520280864413\n",
      "H 207 : W 145, l 37.92669191267865, a -8.05215951418342, b 13.377880205490944\n",
      "H 205 : W 181, l 75.80083366282325, a -5.012977616734082, b -2.2804374507815917\n",
      "H 213 : W 208, l 78.85843685505372, a 1.145603769314052, b 1.1694712287615427\n",
      "H 204 : W 236, l 58.02968725192005, a 1.63656670282325, b -2.4270399122180653\n",
      "H 207 : W 271, l 65.84189314467045, a 0.4511440177631387, b -1.5566943680152434\n",
      "H 208 : W 300, l 29.919196097157126, a -10.614141094849428, b 18.999649775490646\n",
      "H 213 : W 332, l 29.93046982799263, a 3.699531835140629, b 3.398213909934278\n",
      "H 201 : W 372, l 29.665133026134534, a -5.819732684372802, b 10.46628960100293\n",
      "H 238 : W 15, l 24.02931066926095, a -13.080609074511196, b 20.41464138390331\n",
      "H 244 : W 47, l 37.21178720424035, a -10.771931375860216, b 18.145283855631376\n",
      "H 239 : W 80, l 42.812416547706604, a -9.79551459643821, b 15.098702008985942\n",
      "H 236 : W 111, l 20.501748499853022, a -9.306058713171833, b 14.802900129939678\n",
      "H 241 : W 142, l 29.367413070084496, a -9.739860012874024, b 12.442594629484782\n",
      "H 239 : W 175, l 35.314500529728925, a -8.836986288922265, b 19.480395438265006\n",
      "H 241 : W 205, l 57.13245130109665, a 1.1337409271129917, b -0.7879750160152854\n",
      "H 239 : W 240, l 78.65650076924696, a 0.26891293333680677, b -1.7781775585017812\n",
      "H 240 : W 275, l 58.4749334409632, a 0.29372795386428674, b -4.0213772586938035\n",
      "H 239 : W 309, l 43.0182196811485, a -14.224962635663585, b 20.13957093203228\n",
      "H 240 : W 345, l 52.521878163290125, a 2.1359359729060667, b 5.054014658133865\n",
      "H 234 : W 378, l 40.964081826385424, a -9.008296120637082, b 10.487725748050703\n",
      "H 270 : W 20, l 27.083967452643044, a -11.36369605180959, b 19.15846371364488\n",
      "H 280 : W 56, l 53.766980894394635, a -1.9086200349712201, b 1.6869848902130613\n",
      "H 269 : W 79, l 36.00804761627187, a -10.533268499569786, b 18.834042419665554\n",
      "H 269 : W 113, l 37.25729326437304, a -11.308132263187915, b 20.04390590212357\n",
      "H 271 : W 148, l 34.096211456568334, a -9.023786521779154, b 18.677337788414217\n",
      "H 275 : W 171, l 38.17785136889143, a -12.30479093607681, b 19.56440178301857\n",
      "H 272 : W 207, l 58.508085103290156, a 1.1119683726076302, b -0.8875383393549541\n",
      "H 271 : W 244, l 66.8036367169793, a 1.2469851669190124, b 1.0179762210212884\n",
      "H 273 : W 278, l 56.80321833894584, a -0.20351676829749588, b -3.0179151725199027\n",
      "H 263 : W 309, l 27.332163371857263, a -9.25347572596394, b 19.102242940918536\n",
      "H 268 : W 331, l 28.1356803459407, a -9.536549011818412, b 9.654156643450062\n",
      "H 269 : W 375, l 39.796210213414106, a -12.571672627810171, b 14.653183970680972\n",
      "H 302 : W 20, l 29.992293694234817, a -11.029373304007828, b 16.33076992097284\n",
      "H 305 : W 51, l 9.520501920865591, a -2.5732688560840407, b 0.9238968600117137\n",
      "H 304 : W 87, l 39.417715133976955, a -13.469718423971072, b 24.115179238417028\n",
      "H 303 : W 111, l 27.421879418685734, a -10.659006167928863, b 25.016090954657933\n",
      "H 302 : W 142, l 36.44140632249315, a -13.990635899232217, b 22.501540386878858\n",
      "H 307 : W 175, l 65.85491553093169, a 0.5946437518987158, b 1.9783479252062142\n",
      "H 303 : W 207, l 56.29986798316442, a 0.39511422435101196, b -1.0682925830762802\n",
      "H 304 : W 242, l 66.72161041639765, a 1.1002014243672864, b 1.047766288114138\n",
      "H 302 : W 275, l 65.31926189653203, a -1.2992001394125374, b -0.9978763059822038\n",
      "H 300 : W 305, l 59.10512181160853, a -3.3618129337971703, b 12.516687283852757\n",
      "H 310 : W 330, l 44.46572832823628, a -12.26878002352133, b 20.601694062546848\n",
      "H 302 : W 375, l 20.89421129859185, a -6.825430416995709, b 4.916227332022737\n",
      "H 338 : W 15, l 30.76495882540334, a -13.286657603029495, b 20.02803922953611\n",
      "H 335 : W 46, l 48.20893585287729, a -7.121659977725569, b 10.584664992923699\n",
      "H 334 : W 76, l 34.57839265762087, a -5.816479474136493, b 7.022539376193659\n",
      "H 338 : W 108, l 4.735295930870134, a -3.188464462241858, b 2.2164601206851375\n",
      "H 338 : W 139, l 36.25835235343364, a -11.692467921578519, b 20.042496530058052\n",
      "H 337 : W 173, l 59.78698154298854, a 1.6614256274708472, b -0.003894202985055273\n",
      "H 340 : W 210, l 59.0935618284376, a 0.390988079999377, b -1.0580444140028566\n",
      "H 336 : W 241, l 65.71199455635032, a 1.3533396990984548, b 0.34007270087204056\n",
      "H 332 : W 273, l 58.60632264705259, a -0.6217968355505255, b -2.8698489662653426\n",
      "H 335 : W 299, l 63.62744545569123, a -0.14401477318970457, b -2.921953323066906\n",
      "H 341 : W 330, l 47.24113807779121, a -9.507241557404456, b 20.86503704822531\n",
      "H 335 : W 375, l 31.594260698247666, a -14.399588291611531, b 18.091698074560057\n",
      "H 376 : W 13, l 20.606422237035382, a -10.732464874382119, b 19.629877700737154\n",
      "H 375 : W 45, l 26.33555324122039, a -5.338814500329331, b 4.873147051180505\n",
      "H 376 : W 79, l 51.45787739346984, a -13.782263246162218, b 26.84375796651456\n",
      "H 376 : W 114, l 23.874118365620227, a -4.705885279337546, b 8.487046691998568\n",
      "H 378 : W 146, l 69.742584131374, a 0.6953615543664471, b 3.7259827331018958\n",
      "H 375 : W 176, l 57.72285210330074, a 0.9346403239355316, b -0.27613855199621895\n",
      "H 378 : W 208, l 60.37022558944928, a 0.7323135051926499, b -1.1574618094032374\n",
      "H 376 : W 243, l 62.77041265555671, a 0.08045487952712538, b -0.220038829476632\n",
      "H 372 : W 272, l 52.93412059448582, a 0.6313960172824595, b -2.8394868026208275\n",
      "H 378 : W 304, l 64.4760718209632, a -0.5007974049968666, b -2.678855078741127\n",
      "H 372 : W 336, l 29.52199241542168, a -12.939640455331608, b 13.094908311994002\n",
      "H 375 : W 374, l 40.70599856823144, a 2.0594764495320272, b 6.481495409669613\n"
     ]
    }
   ],
   "source": [
    "# superpixels\n",
    "for c in cluster:\n",
    "    print(\"H {} : W {}, l {}, a {}, b {}\".format(c.h,c.w,c.l,c.a,c.b))"
   ]
  },
  {
   "cell_type": "code",
   "execution_count": null,
   "metadata": {},
   "outputs": [],
   "source": []
  }
 ],
 "metadata": {
  "kernelspec": {
   "display_name": "base",
   "language": "python",
   "name": "python3"
  },
  "language_info": {
   "codemirror_mode": {
    "name": "ipython",
    "version": 3
   },
   "file_extension": ".py",
   "mimetype": "text/x-python",
   "name": "python",
   "nbconvert_exporter": "python",
   "pygments_lexer": "ipython3",
   "version": "3.11.9"
  },
  "orig_nbformat": 4
 },
 "nbformat": 4,
 "nbformat_minor": 2
}
